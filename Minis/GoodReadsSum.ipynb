{
 "cells": [
  {
   "cell_type": "code",
   "execution_count": 1,
   "metadata": {},
   "outputs": [],
   "source": [
    "# Import Dependencies\n",
    "import pandas as pd"
   ]
  },
  {
   "cell_type": "code",
   "execution_count": 3,
   "metadata": {},
   "outputs": [
    {
     "data": {
      "text/html": [
       "<div>\n",
       "<style scoped>\n",
       "    .dataframe tbody tr th:only-of-type {\n",
       "        vertical-align: middle;\n",
       "    }\n",
       "\n",
       "    .dataframe tbody tr th {\n",
       "        vertical-align: top;\n",
       "    }\n",
       "\n",
       "    .dataframe thead th {\n",
       "        text-align: right;\n",
       "    }\n",
       "</style>\n",
       "<table border=\"1\" class=\"dataframe\">\n",
       "  <thead>\n",
       "    <tr style=\"text-align: right;\">\n",
       "      <th></th>\n",
       "      <th>ISBN</th>\n",
       "      <th>Publication Year</th>\n",
       "      <th>Original Title</th>\n",
       "      <th>Authors</th>\n",
       "      <th>One Star Reviews</th>\n",
       "      <th>Two Star Reviews</th>\n",
       "      <th>Three Star Reviews</th>\n",
       "      <th>Four Star Reviews</th>\n",
       "      <th>Five Star Reviews</th>\n",
       "    </tr>\n",
       "  </thead>\n",
       "  <tbody>\n",
       "    <tr>\n",
       "      <th>0</th>\n",
       "      <td>439023483</td>\n",
       "      <td>2008.0</td>\n",
       "      <td>The Hunger Games</td>\n",
       "      <td>Suzanne Collins</td>\n",
       "      <td>66715</td>\n",
       "      <td>127936</td>\n",
       "      <td>560092</td>\n",
       "      <td>1481305</td>\n",
       "      <td>2706317</td>\n",
       "    </tr>\n",
       "    <tr>\n",
       "      <th>1</th>\n",
       "      <td>439554934</td>\n",
       "      <td>1997.0</td>\n",
       "      <td>Harry Potter and the Philosopher's Stone</td>\n",
       "      <td>J.K. Rowling, Mary GrandPré</td>\n",
       "      <td>75504</td>\n",
       "      <td>101676</td>\n",
       "      <td>455024</td>\n",
       "      <td>1156318</td>\n",
       "      <td>3011543</td>\n",
       "    </tr>\n",
       "    <tr>\n",
       "      <th>2</th>\n",
       "      <td>316015849</td>\n",
       "      <td>2005.0</td>\n",
       "      <td>Twilight</td>\n",
       "      <td>Stephenie Meyer</td>\n",
       "      <td>456191</td>\n",
       "      <td>436802</td>\n",
       "      <td>793319</td>\n",
       "      <td>875073</td>\n",
       "      <td>1355439</td>\n",
       "    </tr>\n",
       "    <tr>\n",
       "      <th>3</th>\n",
       "      <td>61120081</td>\n",
       "      <td>1960.0</td>\n",
       "      <td>To Kill a Mockingbird</td>\n",
       "      <td>Harper Lee</td>\n",
       "      <td>60427</td>\n",
       "      <td>117415</td>\n",
       "      <td>446835</td>\n",
       "      <td>1001952</td>\n",
       "      <td>1714267</td>\n",
       "    </tr>\n",
       "    <tr>\n",
       "      <th>4</th>\n",
       "      <td>743273567</td>\n",
       "      <td>1925.0</td>\n",
       "      <td>The Great Gatsby</td>\n",
       "      <td>F. Scott Fitzgerald</td>\n",
       "      <td>86236</td>\n",
       "      <td>197621</td>\n",
       "      <td>606158</td>\n",
       "      <td>936012</td>\n",
       "      <td>947718</td>\n",
       "    </tr>\n",
       "  </tbody>\n",
       "</table>\n",
       "</div>"
      ],
      "text/plain": [
       "        ISBN  Publication Year                            Original Title  \\\n",
       "0  439023483            2008.0                          The Hunger Games   \n",
       "1  439554934            1997.0  Harry Potter and the Philosopher's Stone   \n",
       "2  316015849            2005.0                                  Twilight   \n",
       "3   61120081            1960.0                     To Kill a Mockingbird   \n",
       "4  743273567            1925.0                          The Great Gatsby   \n",
       "\n",
       "                       Authors  One Star Reviews  Two Star Reviews  \\\n",
       "0              Suzanne Collins             66715            127936   \n",
       "1  J.K. Rowling, Mary GrandPré             75504            101676   \n",
       "2              Stephenie Meyer            456191            436802   \n",
       "3                   Harper Lee             60427            117415   \n",
       "4          F. Scott Fitzgerald             86236            197621   \n",
       "\n",
       "   Three Star Reviews  Four Star Reviews  Five Star Reviews  \n",
       "0              560092            1481305            2706317  \n",
       "1              455024            1156318            3011543  \n",
       "2              793319             875073            1355439  \n",
       "3              446835            1001952            1714267  \n",
       "4              606158             936012             947718  "
      ]
     },
     "execution_count": 3,
     "metadata": {},
     "output_type": "execute_result"
    }
   ],
   "source": [
    "# File to Load\n",
    "file_one = \"Resources/books_clean.csv\"\n",
    "# Read the modified GoodReads csv and store into Pandas DataFrame\n",
    "file_one_df = pd.read_csv(file_one)\n",
    "file_one_df.head()"
   ]
  },
  {
   "cell_type": "code",
   "execution_count": 27,
   "metadata": {},
   "outputs": [
    {
     "data": {
      "text/plain": [
       "array(['Suzanne Collins', 'J.K. Rowling, Mary GrandPré',\n",
       "       'Stephenie Meyer', ..., 'Ian Mortimer', 'Peggy Orenstein',\n",
       "       'John Keegan'], dtype=object)"
      ]
     },
     "execution_count": 27,
     "metadata": {},
     "output_type": "execute_result"
    }
   ],
   "source": [
    "# Calculate the number of unique authors in the DataFrame\n",
    "unique = file_one_df[\"Authors\"].unique()\n",
    "unique"
   ]
  },
  {
   "cell_type": "code",
   "execution_count": 14,
   "metadata": {},
   "outputs": [
    {
     "data": {
      "text/plain": [
       "2017.0"
      ]
     },
     "execution_count": 14,
     "metadata": {},
     "output_type": "execute_result"
    }
   ],
   "source": [
    "# Calculate the latest year a book was published\n",
    "maxi = file_one_df[\"Publication Year\"].max()\n",
    "maxi"
   ]
  },
  {
   "cell_type": "code",
   "execution_count": 15,
   "metadata": {},
   "outputs": [
    {
     "data": {
      "text/plain": [
       "-1750.0"
      ]
     },
     "execution_count": 15,
     "metadata": {},
     "output_type": "execute_result"
    }
   ],
   "source": [
    "# Calculate the earliest year a book was published\n",
    "mini = file_one_df[\"Publication Year\"].min()\n",
    "mini"
   ]
  },
  {
   "cell_type": "code",
   "execution_count": 16,
   "metadata": {},
   "outputs": [
    {
     "data": {
      "text/plain": [
       "237898056"
      ]
     },
     "execution_count": 16,
     "metadata": {},
     "output_type": "execute_result"
    }
   ],
   "source": [
    "# Calculate the total reviews for the entire dataset\n",
    "sum1 = file_one_df[\"One Star Reviews\"].sum()\n",
    "sum1\n",
    "sum2 = file_one_df[\"Two Star Reviews\"].sum()\n",
    "sum2\n",
    "sum3 = file_one_df[\"Three Star Reviews\"].sum()\n",
    "sum3\n",
    "sum4 = file_one_df[\"Four Star Reviews\"].sum()\n",
    "sum4\n",
    "sum5 = file_one_df[\"Five Star Reviews\"].sum()\n",
    "sum5"
   ]
  },
  {
   "cell_type": "code",
   "execution_count": 37,
   "metadata": {},
   "outputs": [
    {
     "data": {
      "text/html": [
       "<div>\n",
       "<style scoped>\n",
       "    .dataframe tbody tr th:only-of-type {\n",
       "        vertical-align: middle;\n",
       "    }\n",
       "\n",
       "    .dataframe tbody tr th {\n",
       "        vertical-align: top;\n",
       "    }\n",
       "\n",
       "    .dataframe thead th {\n",
       "        text-align: right;\n",
       "    }\n",
       "</style>\n",
       "<table border=\"1\" class=\"dataframe\">\n",
       "  <thead>\n",
       "    <tr style=\"text-align: right;\">\n",
       "      <th></th>\n",
       "      <th>List of Unique Authors</th>\n",
       "      <th>Latest Year of Publication</th>\n",
       "      <th>Earliest Year of Publication</th>\n",
       "      <th>Total One Star Reviews</th>\n",
       "      <th>Total Two Star Reviews</th>\n",
       "      <th>Total Three Star Reviews</th>\n",
       "      <th>Total Four Star Reviews</th>\n",
       "      <th>Total Five Star Reviews</th>\n",
       "    </tr>\n",
       "  </thead>\n",
       "  <tbody>\n",
       "    <tr>\n",
       "      <th>0</th>\n",
       "      <td>Suzanne Collins</td>\n",
       "      <td>2017.0</td>\n",
       "      <td>-1750.0</td>\n",
       "      <td>13450406</td>\n",
       "      <td>31108850</td>\n",
       "      <td>114758938</td>\n",
       "      <td>199656966</td>\n",
       "      <td>237898056</td>\n",
       "    </tr>\n",
       "    <tr>\n",
       "      <th>1</th>\n",
       "      <td>J.K. Rowling, Mary GrandPré</td>\n",
       "      <td>2017.0</td>\n",
       "      <td>-1750.0</td>\n",
       "      <td>13450406</td>\n",
       "      <td>31108850</td>\n",
       "      <td>114758938</td>\n",
       "      <td>199656966</td>\n",
       "      <td>237898056</td>\n",
       "    </tr>\n",
       "    <tr>\n",
       "      <th>2</th>\n",
       "      <td>Stephenie Meyer</td>\n",
       "      <td>2017.0</td>\n",
       "      <td>-1750.0</td>\n",
       "      <td>13450406</td>\n",
       "      <td>31108850</td>\n",
       "      <td>114758938</td>\n",
       "      <td>199656966</td>\n",
       "      <td>237898056</td>\n",
       "    </tr>\n",
       "    <tr>\n",
       "      <th>3</th>\n",
       "      <td>Harper Lee</td>\n",
       "      <td>2017.0</td>\n",
       "      <td>-1750.0</td>\n",
       "      <td>13450406</td>\n",
       "      <td>31108850</td>\n",
       "      <td>114758938</td>\n",
       "      <td>199656966</td>\n",
       "      <td>237898056</td>\n",
       "    </tr>\n",
       "    <tr>\n",
       "      <th>4</th>\n",
       "      <td>F. Scott Fitzgerald</td>\n",
       "      <td>2017.0</td>\n",
       "      <td>-1750.0</td>\n",
       "      <td>13450406</td>\n",
       "      <td>31108850</td>\n",
       "      <td>114758938</td>\n",
       "      <td>199656966</td>\n",
       "      <td>237898056</td>\n",
       "    </tr>\n",
       "  </tbody>\n",
       "</table>\n",
       "</div>"
      ],
      "text/plain": [
       "        List of Unique Authors  Latest Year of Publication  \\\n",
       "0              Suzanne Collins                      2017.0   \n",
       "1  J.K. Rowling, Mary GrandPré                      2017.0   \n",
       "2              Stephenie Meyer                      2017.0   \n",
       "3                   Harper Lee                      2017.0   \n",
       "4          F. Scott Fitzgerald                      2017.0   \n",
       "\n",
       "   Earliest Year of Publication  Total One Star Reviews  \\\n",
       "0                       -1750.0                13450406   \n",
       "1                       -1750.0                13450406   \n",
       "2                       -1750.0                13450406   \n",
       "3                       -1750.0                13450406   \n",
       "4                       -1750.0                13450406   \n",
       "\n",
       "   Total Two Star Reviews  Total Three Star Reviews  Total Four Star Reviews  \\\n",
       "0                31108850                 114758938                199656966   \n",
       "1                31108850                 114758938                199656966   \n",
       "2                31108850                 114758938                199656966   \n",
       "3                31108850                 114758938                199656966   \n",
       "4                31108850                 114758938                199656966   \n",
       "\n",
       "   Total Five Star Reviews  \n",
       "0                237898056  \n",
       "1                237898056  \n",
       "2                237898056  \n",
       "3                237898056  \n",
       "4                237898056  "
      ]
     },
     "execution_count": 37,
     "metadata": {},
     "output_type": "execute_result"
    }
   ],
   "source": [
    "# Place all of the data found into a summary DataFrame\n",
    "data = {\n",
    "    'List of Unique Authors': unique,\n",
    "    'Latest Year of Publication': maxi,\n",
    "    'Earliest Year of Publication': mini,\n",
    "    'Total One Star Reviews': sum1,\n",
    "    'Total Two Star Reviews': sum2,\n",
    "    'Total Three Star Reviews': sum3,\n",
    "    'Total Four Star Reviews': sum4,\n",
    "    'Total Five Star Reviews': sum5\n",
    "}\n",
    "new_file = pd.DataFrame(data)\n",
    "new_file.head()"
   ]
  },
  {
   "cell_type": "code",
   "execution_count": null,
   "metadata": {},
   "outputs": [],
   "source": []
  }
 ],
 "metadata": {
  "kernelspec": {
   "display_name": "Python 3",
   "language": "python",
   "name": "python3"
  },
  "language_info": {
   "codemirror_mode": {
    "name": "ipython",
    "version": 3
   },
   "file_extension": ".py",
   "mimetype": "text/x-python",
   "name": "python",
   "nbconvert_exporter": "python",
   "pygments_lexer": "ipython3",
   "version": "3.7.6"
  }
 },
 "nbformat": 4,
 "nbformat_minor": 2
}
